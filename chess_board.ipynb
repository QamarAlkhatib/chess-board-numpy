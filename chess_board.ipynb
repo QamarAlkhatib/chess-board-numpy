{
  "nbformat": 4,
  "nbformat_minor": 0,
  "metadata": {
    "colab": {
      "name": "chess-board.ipynb",
      "provenance": [],
      "collapsed_sections": [],
      "authorship_tag": "ABX9TyPmw8UkvR2pVeu2SOanb+iW",
      "include_colab_link": true
    },
    "kernelspec": {
      "name": "python3",
      "display_name": "Python 3"
    },
    "language_info": {
      "name": "python"
    }
  },
  "cells": [
    {
      "cell_type": "markdown",
      "metadata": {
        "id": "view-in-github",
        "colab_type": "text"
      },
      "source": [
        "<a href=\"https://colab.research.google.com/github/QamarAlkhatib/chess-board-numpy/blob/main/chess_board.ipynb\" target=\"_parent\"><img src=\"https://colab.research.google.com/assets/colab-badge.svg\" alt=\"Open In Colab\"/></a>"
      ]
    },
    {
      "cell_type": "code",
      "metadata": {
        "id": "PjaeRmrUDz7F"
      },
      "source": [
        "import numpy as np\n",
        "%matplotlib inline\n",
        "import matplotlib.pyplot as plt"
      ],
      "execution_count": null,
      "outputs": []
    },
    {
      "cell_type": "code",
      "metadata": {
        "id": "zDgskcIiEnWa"
      },
      "source": [
        "class ChessBoard:\n",
        "  def __init__(self):\n",
        "      self.grid = np.ones([8,8,3])\n",
        "      self.index = np.ndindex(8,8)\n",
        "      for i in self.index:\n",
        "          row = i[0]\n",
        "          col = i[1]\n",
        "          if row%2 != col%2:\n",
        "            self.grid[row,col] = [0,0,0] \n",
        "          # print(i,self.grid[i])\n",
        "\n",
        "  def add_red(self,row,column):\n",
        "    self.row_red = row\n",
        "    self.col_red = column\n",
        "    self.grid[row,column] = [1,.2,0]\n",
        "  \n",
        "  def add_blue(self,row,column):\n",
        "    self.row_blue = row\n",
        "    self.col_blue = column\n",
        "    self.grid[row,column] = [0,0,255]\n",
        "  \n",
        "  def render(self):\n",
        "    plt.imshow(self.grid)\n",
        "\n",
        "  def is_under_attack(self):\n",
        "      print('The Queen is under Attack? ') \n",
        "      if self.row_red == self.row_blue or self.col_red == self.col_blue:\n",
        "        return True\n",
        "      else:\n",
        "        return False\n",
        "    "
      ],
      "execution_count": null,
      "outputs": []
    },
    {
      "cell_type": "code",
      "metadata": {
        "id": "_TPXiJnsHZ9G"
      },
      "source": [
        "chess_board = ChessBoard()"
      ],
      "execution_count": null,
      "outputs": []
    },
    {
      "cell_type": "code",
      "metadata": {
        "id": "zgxfEa9BZNxP"
      },
      "source": [
        "chess_board.add_red(0,4)"
      ],
      "execution_count": null,
      "outputs": []
    },
    {
      "cell_type": "code",
      "metadata": {
        "id": "b_DQbg0mZ4I_"
      },
      "source": [
        "chess_board.add_blue(7,4)"
      ],
      "execution_count": null,
      "outputs": []
    },
    {
      "cell_type": "code",
      "metadata": {
        "colab": {
          "base_uri": "https://localhost:8080/",
          "height": 302
        },
        "id": "tPvMLVSHHegT",
        "outputId": "2d3dadae-9ade-4075-cb2d-c1227e1f556e"
      },
      "source": [
        "chess_board.render()\n"
      ],
      "execution_count": null,
      "outputs": [
        {
          "output_type": "stream",
          "name": "stderr",
          "text": [
            "Clipping input data to the valid range for imshow with RGB data ([0..1] for floats or [0..255] for integers).\n"
          ]
        },
        {
          "output_type": "display_data",
          "data": {
            "image/png": "[encoded data removed]",
            "text/plain": [
              "<Figure size 432x288 with 1 Axes>"
            ]
          },
          "metadata": {
            "needs_background": "light"
          }
        }
      ]
    },
    {
      "cell_type": "code",
      "metadata": {
        "id": "5tHUPKNMt2UZ"
      },
      "source": [
        "chess_board2 = ChessBoard()"
      ],
      "execution_count": null,
      "outputs": []
    },
    {
      "cell_type": "code",
      "metadata": {
        "id": "Ahv4XfMmt8Dy"
      },
      "source": [
        "chess_board2.add_red(0,4)"
      ],
      "execution_count": null,
      "outputs": []
    },
    {
      "cell_type": "code",
      "metadata": {
        "id": "K2_eUA5ZuB5O"
      },
      "source": [
        "chess_board2.add_blue(1,7)"
      ],
      "execution_count": null,
      "outputs": []
    },
    {
      "cell_type": "code",
      "metadata": {
        "colab": {
          "base_uri": "https://localhost:8080/"
        },
        "id": "wMqmtQLiuKgb",
        "outputId": "fac53d08-2a0b-40bb-e3f7-47f09774211a"
      },
      "source": [
        "chess_board2.is_under_attack()"
      ],
      "execution_count": null,
      "outputs": [
        {
          "output_type": "stream",
          "name": "stdout",
          "text": [
            "The Queen is under Attack? \n"
          ]
        },
        {
          "output_type": "execute_result",
          "data": {
            "text/plain": [
              "False"
            ]
          },
          "metadata": {},
          "execution_count": 313
        }
      ]
    },
    {
      "cell_type": "code",
      "metadata": {
        "colab": {
          "base_uri": "https://localhost:8080/",
          "height": 302
        },
        "id": "YQmms3qZuOwH",
        "outputId": "482322bc-21fa-4732-9dce-d206c2bc94a4"
      },
      "source": [
        "chess_board2.render()"
      ],
      "execution_count": null,
      "outputs": [
        {
          "output_type": "stream",
          "name": "stderr",
          "text": [
            "Clipping input data to the valid range for imshow with RGB data ([0..1] for floats or [0..255] for integers).\n"
          ]
        },
        {
          "output_type": "display_data",
          "data": {
            "image/png": "[encoded data removed]",
            "text/plain": [
              "<Figure size 432x288 with 1 Axes>"
            ]
          },
          "metadata": {
            "needs_background": "light"
          }
        }
      ]
    },
    {
      "cell_type": "code",
      "metadata": {
        "id": "Cw-98sARutgk"
      },
      "source": [
        "chess_board3 = ChessBoard()"
      ],
      "execution_count": null,
      "outputs": []
    },
    {
      "cell_type": "code",
      "metadata": {
        "id": "voop5zlyuiGP"
      },
      "source": [
        "chess_board3.add_red(7,7)"
      ],
      "execution_count": null,
      "outputs": []
    },
    {
      "cell_type": "code",
      "metadata": {
        "id": "zzGS4RtMuiR-"
      },
      "source": [
        "chess_board3.add_blue(1,7)"
      ],
      "execution_count": null,
      "outputs": []
    },
    {
      "cell_type": "code",
      "metadata": {
        "colab": {
          "base_uri": "https://localhost:8080/"
        },
        "id": "Y1FtiPl7uicc",
        "outputId": "2d201f40-df1e-4fad-c729-d62e3af2a99c"
      },
      "source": [
        "chess_board3.is_under_attack()"
      ],
      "execution_count": null,
      "outputs": [
        {
          "output_type": "stream",
          "name": "stdout",
          "text": [
            "The Queen is under Attack? \n"
          ]
        },
        {
          "output_type": "execute_result",
          "data": {
            "text/plain": [
              "True"
            ]
          },
          "metadata": {},
          "execution_count": 318
        }
      ]
    },
    {
      "cell_type": "code",
      "metadata": {
        "colab": {
          "base_uri": "https://localhost:8080/",
          "height": 302
        },
        "id": "mNuUCZSfugGY",
        "outputId": "e9258d52-ffcf-4eac-ede4-312581533a23"
      },
      "source": [
        "chess_board3.render()"
      ],
      "execution_count": null,
      "outputs": [
        {
          "output_type": "stream",
          "name": "stderr",
          "text": [
            "Clipping input data to the valid range for imshow with RGB data ([0..1] for floats or [0..255] for integers).\n"
          ]
        },
        {
          "output_type": "display_data",
          "data": {
            "image/png": "[encoded data removed]",
            "text/plain": [
              "<Figure size 432x288 with 1 Axes>"
            ]
          },
          "metadata": {
            "needs_background": "light"
          }
        }
      ]
    }
  ]
}